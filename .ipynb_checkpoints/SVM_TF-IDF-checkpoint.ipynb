{
 "cells": [
  {
   "cell_type": "markdown",
   "metadata": {},
   "source": [
    "# Training a SVM model on TF-IDF vectorization of collected news articles of multiple classes\n",
    "# Data collected using this tool https://github.com/prgmlu/youm-7-scraping"
   ]
  },
  {
   "cell_type": "code",
   "execution_count": 87,
   "metadata": {},
   "outputs": [],
   "source": [
    "from sklearn.feature_extraction.text import TfidfVectorizer\n",
    "from sklearn.model_selection import train_test_split\n",
    "import pandas as pd\n",
    "import numpy as np\n",
    "from sklearn import svm"
   ]
  },
  {
   "cell_type": "markdown",
   "metadata": {},
   "source": [
    "# Loading the data, doing the train/test split with sklearn, and vectorizing the articles with sklearn TF-IDF implementation"
   ]
  },
  {
   "cell_type": "code",
   "execution_count": 88,
   "metadata": {},
   "outputs": [],
   "source": [
    "data=pd.read_csv('data.csv')\n",
    "\n",
    "articles=np.array(data['article'])\n",
    "labels=np.array(data['label'])\n",
    "x_train,x_test,y_train,y_test=train_test_split(articles,labels,test_size=0.2)\n",
    "\n",
    "tf_vectorizer=TfidfVectorizer(min_df=4,max_df=0.3,ngram_range=(1,3))\n",
    "x_train_tfidf=tf_vectorizer.fit_transform(x_train)\n",
    "x_test_tfidf=tf_vectorizer.transform(x_test)"
   ]
  },
  {
   "cell_type": "code",
   "execution_count": 89,
   "metadata": {},
   "outputs": [
    {
     "data": {
      "text/html": [
       "<div>\n",
       "<style scoped>\n",
       "    .dataframe tbody tr th:only-of-type {\n",
       "        vertical-align: middle;\n",
       "    }\n",
       "\n",
       "    .dataframe tbody tr th {\n",
       "        vertical-align: top;\n",
       "    }\n",
       "\n",
       "    .dataframe thead th {\n",
       "        text-align: right;\n",
       "    }\n",
       "</style>\n",
       "<table border=\"1\" class=\"dataframe\">\n",
       "  <thead>\n",
       "    <tr style=\"text-align: right;\">\n",
       "      <th></th>\n",
       "      <th>article</th>\n",
       "      <th>category</th>\n",
       "      <th>label</th>\n",
       "      <th>link</th>\n",
       "      <th>title</th>\n",
       "      <th>length</th>\n",
       "    </tr>\n",
       "  </thead>\n",
       "  <tbody>\n",
       "    <tr>\n",
       "      <th>0</th>\n",
       "      <td>تعد إزالة الملفات الزائدة وغير المرغوب فيها من...</td>\n",
       "      <td>علوم و تكنولوجيا</td>\n",
       "      <td>0</td>\n",
       "      <td>https://www.youm7.com/story/2018/9/7/%D8%B7%D8...</td>\n",
       "      <td>طريقة مسح ذاكرة الإنترنت المؤقتة \"كاش\" على الأ...</td>\n",
       "      <td>661</td>\n",
       "    </tr>\n",
       "    <tr>\n",
       "      <th>1</th>\n",
       "      <td>كشفت تقارير مختلفة هذا الأسبوع أن هناك تسريب ه...</td>\n",
       "      <td>علوم و تكنولوجيا</td>\n",
       "      <td>0</td>\n",
       "      <td>https://www.youm7.com/story/2018/8/31/6-%D9%85...</td>\n",
       "      <td>6 معلومات عن تسرب الهواء بمحطة الفضاء الدولية....</td>\n",
       "      <td>917</td>\n",
       "    </tr>\n",
       "    <tr>\n",
       "      <th>2</th>\n",
       "      <td>فى الشهر الماضى أكدت جوجل رسميا اسم أحدث نظام ...</td>\n",
       "      <td>علوم و تكنولوجيا</td>\n",
       "      <td>0</td>\n",
       "      <td>https://www.youm7.com/story/2018/9/4/%D8%AA%D8...</td>\n",
       "      <td>تعرف على أبرز 30 هاتف ذكى يعمل بتحديث أندرويد ...</td>\n",
       "      <td>329</td>\n",
       "    </tr>\n",
       "    <tr>\n",
       "      <th>3</th>\n",
       "      <td>كشفت شركة نوكيا إضافة إلى عدد من الشركات التكن...</td>\n",
       "      <td>علوم و تكنولوجيا</td>\n",
       "      <td>0</td>\n",
       "      <td>https://www.youm7.com/story/2018/8/27/3-%D9%8A...</td>\n",
       "      <td>3 يورو رسومًا على كل هاتف ذكى يباع بتكنولوجيا 5G</td>\n",
       "      <td>1015</td>\n",
       "    </tr>\n",
       "    <tr>\n",
       "      <th>4</th>\n",
       "      <td>يمتلك كل جهاز متصل بالانترنت هوية خاصة به تعرف...</td>\n",
       "      <td>علوم و تكنولوجيا</td>\n",
       "      <td>0</td>\n",
       "      <td>https://www.youm7.com/story/2018/9/4/%D8%A5%D9...</td>\n",
       "      <td>إيه الفرق .. أبرز الاختلافات بين بروتوكولى IPv...</td>\n",
       "      <td>1050</td>\n",
       "    </tr>\n",
       "  </tbody>\n",
       "</table>\n",
       "</div>"
      ],
      "text/plain": [
       "                                             article          category  label  \\\n",
       "0  تعد إزالة الملفات الزائدة وغير المرغوب فيها من...  علوم و تكنولوجيا      0   \n",
       "1  كشفت تقارير مختلفة هذا الأسبوع أن هناك تسريب ه...  علوم و تكنولوجيا      0   \n",
       "2  فى الشهر الماضى أكدت جوجل رسميا اسم أحدث نظام ...  علوم و تكنولوجيا      0   \n",
       "3  كشفت شركة نوكيا إضافة إلى عدد من الشركات التكن...  علوم و تكنولوجيا      0   \n",
       "4  يمتلك كل جهاز متصل بالانترنت هوية خاصة به تعرف...  علوم و تكنولوجيا      0   \n",
       "\n",
       "                                                link  \\\n",
       "0  https://www.youm7.com/story/2018/9/7/%D8%B7%D8...   \n",
       "1  https://www.youm7.com/story/2018/8/31/6-%D9%85...   \n",
       "2  https://www.youm7.com/story/2018/9/4/%D8%AA%D8...   \n",
       "3  https://www.youm7.com/story/2018/8/27/3-%D9%8A...   \n",
       "4  https://www.youm7.com/story/2018/9/4/%D8%A5%D9...   \n",
       "\n",
       "                                               title  length  \n",
       "0  طريقة مسح ذاكرة الإنترنت المؤقتة \"كاش\" على الأ...     661  \n",
       "1  6 معلومات عن تسرب الهواء بمحطة الفضاء الدولية....     917  \n",
       "2  تعرف على أبرز 30 هاتف ذكى يعمل بتحديث أندرويد ...     329  \n",
       "3   3 يورو رسومًا على كل هاتف ذكى يباع بتكنولوجيا 5G    1015  \n",
       "4  إيه الفرق .. أبرز الاختلافات بين بروتوكولى IPv...    1050  "
      ]
     },
     "execution_count": 89,
     "metadata": {},
     "output_type": "execute_result"
    }
   ],
   "source": [
    "data.head()"
   ]
  },
  {
   "cell_type": "markdown",
   "metadata": {},
   "source": [
    "# Training a SVM model with the default parameters on the TF-IDF vectorization of the train data"
   ]
  },
  {
   "cell_type": "code",
   "execution_count": 90,
   "metadata": {},
   "outputs": [
    {
     "data": {
      "text/plain": [
       "LinearSVC(C=1.0, class_weight=None, dual=True, fit_intercept=True,\n",
       "     intercept_scaling=1, loss='squared_hinge', max_iter=1000,\n",
       "     multi_class='ovr', penalty='l2', random_state=None, tol=0.0001,\n",
       "     verbose=0)"
      ]
     },
     "execution_count": 90,
     "metadata": {},
     "output_type": "execute_result"
    }
   ],
   "source": [
    "clf = svm.LinearSVC()\n",
    "clf.fit(x_train_tfidf, y_train)"
   ]
  },
  {
   "cell_type": "markdown",
   "metadata": {},
   "source": [
    "# Testing the model on the TF-IDF vectorization of the test dataset"
   ]
  },
  {
   "cell_type": "code",
   "execution_count": 91,
   "metadata": {},
   "outputs": [
    {
     "data": {
      "text/plain": [
       "0.9834710743801653"
      ]
     },
     "execution_count": 91,
     "metadata": {},
     "output_type": "execute_result"
    }
   ],
   "source": [
    "clf.score(x_test_tfidf,y_test)"
   ]
  },
  {
   "cell_type": "markdown",
   "metadata": {},
   "source": [
    "# Accuracy achieved on the test set is ~98%"
   ]
  },
  {
   "cell_type": "markdown",
   "metadata": {},
   "source": [
    "# Making a function that takes an article and classifies it"
   ]
  },
  {
   "cell_type": "code",
   "execution_count": 92,
   "metadata": {},
   "outputs": [],
   "source": [
    "def classify(article_text):\n",
    "    global clf\n",
    "    global tf_vectorizer\n",
    "    global data\n",
    "    article=tf_vectorizer.transform([article_text])\n",
    "    labels=data[['label','category']].drop_duplicates()['label'].values\n",
    "    categories=data[['label','category']].drop_duplicates()['category'].values\n",
    "    look_up=dict(zip(labels,categories))\n",
    "    return look_up[clf.predict(article)[0]]"
   ]
  },
  {
   "cell_type": "markdown",
   "metadata": {},
   "source": [
    "# Using the above function to classify this <a href=\"https://www.youm7.com/story/2018/9/13/%D8%A7%D9%84%D9%86%D8%A7%D8%A6%D8%A8-%D8%B3%D8%B9%D8%AF-%D8%AA%D9%85%D8%B1%D8%A7%D8%B2-%D9%8A%D8%B7%D8%A7%D9%84%D8%A8-%D8%A7%D9%84%D8%AD%D9%83%D9%88%D9%85%D8%A9-%D8%A8%D8%AD%D9%84-%D8%A3%D8%B2%D9%85%D8%A9-%D9%85%D9%8A%D8%A7%D9%87-%D8%A7%D9%84%D8%B4%D8%B1%D8%A8-%D8%A8%D8%A7%D9%84%D8%A8%D8%AD%D9%8A%D8%B1%D8%A9/3948669\">article</a>"
   ]
  },
  {
   "cell_type": "code",
   "execution_count": 93,
   "metadata": {},
   "outputs": [],
   "source": [
    "artice_text=\"تقدم النائب محمد سعد تمراز، عضو مجلس النواب بمحافظة البحيرة، بسؤال للحكومة بشأن استمرار أزمة مياه الشرب بالمحافظة لعدد من القرى والتوابع.وأوضح تمراز لـاليوم السابع، أن هذه الأزمة ليست وليدة اللحظة، ولكنها منذ سنوات طويلة، وسبق وأن تم تقديم أكثر من طلب إحاطة وبيان عاجل وطلب مناقشة عامة خلال أدوار الانعقاد الثلاثة الماضية ولكن لم يتم وضع حلول جذرية لهذه الأزمة، التى أصبحت تشكل عبء إضافى على المواطن.وطالب عضو مجلس النواب بمحافظة البحيرة، الحكومة بوضع خطة للقضاء على هذه الأزمة من خلال جدول زمنى على أن يتم مراعاة القرى الأشد احتياجا، لافتًا إلى أن هناك عدد من القرى بها مشاريع مياه وصرف صحى متوقف العمل فيها على نسبة 10 أو 20% بحد أقصى، وعلى الوزارة أن تنتهى من هذه المشروعات ودخولها الخدمة لسرعة تخفيف الأعباء عن المواطنين لتوفير كوب مياه نظيف\""
   ]
  },
  {
   "cell_type": "code",
   "execution_count": 94,
   "metadata": {},
   "outputs": [
    {
     "data": {
      "text/plain": [
       "'سياسة'"
      ]
     },
     "execution_count": 94,
     "metadata": {},
     "output_type": "execute_result"
    }
   ],
   "source": [
    "classify(artice_text)"
   ]
  },
  {
   "cell_type": "markdown",
   "metadata": {},
   "source": [
    "# The article is correctly classified."
   ]
  }
 ],
 "metadata": {
  "kernelspec": {
   "display_name": "Python 3",
   "language": "python",
   "name": "python3"
  },
  "language_info": {
   "codemirror_mode": {
    "name": "ipython",
    "version": 3
   },
   "file_extension": ".py",
   "mimetype": "text/x-python",
   "name": "python",
   "nbconvert_exporter": "python",
   "pygments_lexer": "ipython3",
   "version": "3.5.2"
  }
 },
 "nbformat": 4,
 "nbformat_minor": 2
}
